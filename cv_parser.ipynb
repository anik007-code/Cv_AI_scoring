{
  "nbformat": 4,
  "nbformat_minor": 0,
  "metadata": {
    "colab": {
      "provenance": [],
      "mount_file_id": "1DqxRUQm0rSVtbPyEctwAx1m3W0Z_PbHz",
      "authorship_tag": "ABX9TyNHQ8Jt08i1pbpVUyyjB05E",
      "include_colab_link": true
    },
    "kernelspec": {
      "name": "python3",
      "display_name": "Python 3"
    },
    "language_info": {
      "name": "python"
    }
  },
  "cells": [
    {
      "cell_type": "markdown",
      "metadata": {
        "id": "view-in-github",
        "colab_type": "text"
      },
      "source": [
        "<a href=\"https://colab.research.google.com/github/anik007-code/Cv_AI_scoring/blob/main/cv_parser.ipynb\" target=\"_parent\"><img src=\"https://colab.research.google.com/assets/colab-badge.svg\" alt=\"Open In Colab\"/></a>"
      ]
    },
    {
      "cell_type": "code",
      "execution_count": 66,
      "metadata": {
        "collapsed": true,
        "id": "exZEu_7AhXJZ"
      },
      "outputs": [],
      "source": [
        "import PyPDF2\n",
        "from collections import Counter\n",
        "import spacy\n",
        "\n",
        "nlp = spacy.load(\"en_core_web_sm\")\n",
        "\n",
        "\n",
        "def extract_text(pdf):\n",
        "    with open(pdf, 'rb') as file:\n",
        "        reader = PyPDF2.PdfReader(file)\n",
        "        text = \"\"\n",
        "        for page in reader.pages:\n",
        "            text += page.extract_text()\n",
        "    return text\n",
        "\n",
        "path = \"/content/drive/MyDrive/CV/Simple Resume of Md Arifur Rahman Anik.pdf\"\n",
        "# print(extract_text(path))"
      ]
    },
    {
      "cell_type": "code",
      "source": [
        "def word_count(text):\n",
        "    doc = nlp(text)\n",
        "    token = [token.text for token in doc]\n",
        "    words = [word for word in token if word.isalpha()]\n",
        "    return len(Counter(words))/2 * 0.1\n",
        "# print(word_count(extract_text(path)))"
      ],
      "metadata": {
        "colab": {
          "base_uri": "https://localhost:8080/"
        },
        "id": "QMBDwhj4ih8t",
        "outputId": "7905eb88-338a-49e6-b459-dec72c58203d"
      },
      "execution_count": 75,
      "outputs": [
        {
          "output_type": "stream",
          "name": "stdout",
          "text": [
            "15.5\n"
          ]
        }
      ]
    },
    {
      "cell_type": "code",
      "source": [
        "def assess_langauge_quality(text):\n",
        "    doc = nlp(text)\n",
        "    action_verbs = [\"manage\", \"lead\", \"develop\", \"design\", \"implement\", \"analyze\", \"collaborate\", \"create\", \"internship\"]\n",
        "    for token in doc:\n",
        "        if token.pos_ == \"VERB\" and token.lemma_ in action_verbs:\n",
        "          print(token.lemma_)\n",
        "          return len(token)\n",
        "# print(assess_langauge_quality(extract_text(path)))\n"
      ],
      "metadata": {
        "id": "v0Z7F21GiiEd"
      },
      "execution_count": 68,
      "outputs": []
    },
    {
      "cell_type": "code",
      "source": [
        "def assess_structure(cv_text):\n",
        "    score = 0\n",
        "    sections = [\"education\", \"skills\", \"projects\", \"certifications\", \"contact\", \"summary\"]\n",
        "    for section in sections:\n",
        "        if section in cv_text.lower():\n",
        "            score += 5\n",
        "    return score\n",
        "\n",
        "# print(assess_structure(extract_text(path)))"
      ],
      "metadata": {
        "id": "wJiY0yWNiiK1"
      },
      "execution_count": 69,
      "outputs": []
    },
    {
      "cell_type": "code",
      "source": [
        "import re\n",
        "from datetime import datetime\n",
        "\n",
        "def parse_date(date_str):\n",
        "    \"\"\"Parse various date formats into a datetime object.\"\"\"\n",
        "    formats = [\n",
        "        '%d/%m/%Y', '%d-%m-%Y', '%d/%m/%y', '%d-%m-%y',  # Common formats\n",
        "        '%b %Y', '%B %Y',  # Short and full month names with year\n",
        "        '%d %b %Y', '%d %B %Y',  # Full day and month names\n",
        "        '%Y-%m', '%Y/%m',  # Year and month formats\n",
        "    ]\n",
        "\n",
        "    for fmt in formats:\n",
        "        try:\n",
        "            return datetime.strptime(date_str, fmt)\n",
        "        except ValueError:\n",
        "            continue\n",
        "    raise ValueError(f\"Date format for '{date_str}' is not recognized.\")\n",
        "\n",
        "def calculate_total_experience(cv_text):\n",
        "    # Regex pattern to match various date formats in CV\n",
        "    date_pattern = r'(\\b(?:Jan(?:uary)?|Feb(?:ruary)?|Mar(?:ch)?|Apr(?:il)?|May|Jun(?:e)?|Jul(?:y)?|Aug(?:ust)?|Sep(?:tember)?|Oct(?:ober)?|Nov(?:ember)?|Dec(?:ember)?) \\d{4}|\\d{2}/\\d{2}/\\d{4}|\\d{2}-\\d{2}-\\d{4}|\\d{2}/\\d{2}/\\d{2}|\\d{2}-\\d{2}-\\d{2}|\\b\\d{4}[-/]\\d{2})\\s*[-to]*\\s*(\\b(?:Jan(?:uary)?|Feb(?:ruary)?|Mar(?:ch)?|Apr(?:il)?|May|Jun(?:e)?|Jul(?:y)?|Aug(?:ust)?|Sep(?:tember)?|Oct(?:ober)?|Nov(?:ember)?|Dec(?:ember)?) \\d{4}|\\d{2}/\\d{2}/\\d{4}|\\d{2}-\\d{2}-\\d{4}|\\d{2}/\\d{2}/\\d{2}|\\d{2}-\\d{2}-\\d{2}|\\b\\d{4}[-/]\\d{2}|Present)'\n",
        "\n",
        "    dates = []\n",
        "\n",
        "    # Extract date ranges using regex pattern\n",
        "    matches = re.findall(date_pattern, cv_text)\n",
        "    for match in matches:\n",
        "        if not match:\n",
        "            continue\n",
        "        start_date_str = match[0].strip()\n",
        "        end_date_str = match[1].strip() if len(match) > 1 else \"Present\"\n",
        "\n",
        "        try:\n",
        "            start_date_obj = parse_date(start_date_str)\n",
        "        except ValueError:\n",
        "            # print(f\"Skipping invalid start date format: {start_date_str}\")\n",
        "            continue  # Skip invalid dates\n",
        "\n",
        "        if end_date_str.lower() == 'present':\n",
        "            end_date_obj = datetime.now()\n",
        "        else:\n",
        "            try:\n",
        "                end_date_obj = parse_date(end_date_str)\n",
        "            except ValueError:\n",
        "                # print(f\"Skipping invalid end date format: {end_date_str}\")\n",
        "                continue  # Skip invalid dates\n",
        "\n",
        "        # print(f\"Start Date: {start_date_obj}, End Date: {end_date_obj}\")\n",
        "        dates.append((start_date_obj, end_date_obj))\n",
        "\n",
        "    # Calculate total experience\n",
        "    total_experience = 0\n",
        "    for start_date, end_date in dates:\n",
        "        experience = (end_date - start_date).days / 365.25  # Convert days to years\n",
        "        # print(f\"Experience from {start_date} to {end_date}: {experience:.2f} years\")\n",
        "        total_experience += experience\n",
        "\n",
        "    return total_experience\n",
        "\n",
        "\n",
        "# Calculate total experience\n",
        "# total_experience = calculate_total_experience(extract_text(path))\n",
        "# print(f\"Total Experience: {total_experience:.2f}\")\n",
        "\n",
        "\n",
        "def experience_score(text):\n",
        "    total_experience = calculate_total_experience(text)\n",
        "    if total_experience >= 5:\n",
        "        return 20\n",
        "    elif 3 <= total_experience < 5:\n",
        "        return 15\n",
        "    elif 1 <= total_experience < 3:\n",
        "        return 10\n",
        "    elif 0.5 <= total_experience < 1:\n",
        "        return 5\n",
        "    else:\n",
        "        return 1\n",
        "\n",
        "# print(experience_score(extract_text(path)))"
      ],
      "metadata": {
        "id": "JcJGcwc2w9YQ"
      },
      "execution_count": 70,
      "outputs": []
    },
    {
      "cell_type": "code",
      "source": [
        "programming_languages = [\"Python\", \"Django\", \"Flask\", \"FastAPI\", \"Pyramid\", \"Bottle\", \"TensorFlow\", \"Keras\", \"PyTorch\", \"Java\", \"Spring\", \"Hibernate\",\n",
        "                        \"JavaServer Faces (JSF)\", \"Apache Struts\", \"Grails\", \"C++\", \"Qt\", \"Boost\", \"POCO\", \"Cocos2d-x\", \"JavaScript\", \"React\",\n",
        "                        \"Angular\", \"Vue.js\", \"Node.js\", \"Express\", \"Meteor\", \"Ember.js\", \"C#\", \"ASP.NET\", \"Entity Framework\", \"Xamarin\", \"Blazor\",\n",
        "                        \"NancyFX\", \"Ruby\", \"Ruby on Rails\", \"Sinatra\", \"Hanami\", \"Padrino\", \"PHP\", \"Laravel\", \"Symfony\", \"CodeIgniter\",\n",
        "                        \"Zend Framework\", \"Yii\", \"Swift\", \"Vapor\", \"Kitura\", \"Perfect\", \"Go\", \"Gin\", \"Echo\", \"Beego\", \"Revel\", \"Kotlin\", \"Ktor\",\n",
        "                        \"Spring Boot\", \"Exposed\", \"Rust\", \"Actix\", \"Rocket\", \"Tide\", \"Scala\", \"Akka\", \"Play Framework\", \"Lagom\", \"TypeScript\",\n",
        "                        \"NestJS\", \"Angular\", \"Next.js\", \"R\", \"Shiny\", \"R Markdown\", \"ggplot2\", \"Perl\", \"Dancer\", \"Mojolicious\", \"Catalyst\", \"MATLAB\",\n",
        "                        \"Simulink\", \"MATLAB Production Server\", \"SQL\", \"SQLAlchemy\", \"MyBatis\", \"Hibernate\", \"HTML\", \"Bootstrap\", \"Foundation\", \"Bulma\",\n",
        "                        \"CSS\", \"Sass\", \"LESS\", \"Tailwind CSS\", \"Dart\", \"Flutter\", \"AngularDart\", \"Shell\", \"Bash\", \"Zsh\", \"Fish\", \"Objective-C\", \"Cocoa\",\n",
        "                        \"Cocoa Touch\", \"Visual Basic\", \"ASP.NET Web Forms\", \"WinForms\", \"WPF\", \"Assembly\", \"MASM\", \"NASM\", \"Haskell\", \"Yesod\", \"Snap\",\n",
        "                        \"Play\", \"Lua\", \"LÖVE\", \"Corona SDK\", \"Groovy\", \"Grails\", \"Spock\", \"Ratpack\", \"SAS\", \"SAS Studio\", \"SAS Visual Analytics\", \"F#\",\n",
        "                        \"Fable\", \"Suave\", \"Giraffe\", \"VHDL\", \"ModelSim\", \"Vivado\", \"Verilog\", \"ModelSim\", \"Vivado\", \"ActionScript\", \"Apache Flex\",\n",
        "                        \"Erlang\", \"Cowboy\", \"N2O\", \"Phoenix\", \"Smalltalk\", \"Pharo\", \"Squeak\", \"Lisp\", \"Common Lisp\", \"CLIPS\", \"Prolog\", \"SWI-Prolog\",\n",
        "                        \"GNU Prolog\", \"Ada\", \"GNAT\", \"RPG\", \"IBM Rational Developer for i\", \"Delphi\", \"Embarcadero Delphi\", \"FoxPro\", \"Visual FoxPro\",\n",
        "                        \"ML\", \"OCaml\", \"SML/NJ\", \"PostScript\", \"Ghostscript\", \"JScript\", \"ASP.NET Web Forms\", \"Tcl\", \"Tk\", \"Tix\", \"XSLT\", \"Saxon\",\n",
        "                        \"Xalan\", \"PowerShell\", \"PowerShell Core\", \"Powershell DSC\", \"Solidity\", \"Truffle\", \"Hardhat\", \"Julia\", \"Flux\", \"Knet\", \"HCL\",\n",
        "                        \"Terraform\", \"PL/SQL\", \"Oracle SQL Developer\", \"SML\", \"Standard ML of New Jersey\", \"LabVIEW\", \"NI LabVIEW\", \"Razor\",\n",
        "                        \"ASP.NET Core Razor\", \"Forth\", \"Gforth\", \"Eiffel\", \"EiffelStudio\", \"Clojure\", \"Compojure\", \"Luminus\", \"Elixir\", \"Phoenix\",\n",
        "                        \"Nerves\", \"Xamarin\", \"Xamarin.Forms\", \"Apache Groovy\", \"Grails\", \"Spock\", \"Jupyter Notebook\", \"JupyterLab\", \"MATLAB/Simulink\",\n",
        "                        \"Simulink\", \"NATURAL\", \"Adabas NATURAL\", \"ABAP\", \"SAP ABAP\", \"REXX\", \"Open Object REXX\"]\n",
        "def language_score(text):\n",
        "    score = 0\n",
        "    for language in programming_languages:\n",
        "        if language in extract_text(path):\n",
        "            score += 2\n",
        "\n",
        "    return score\n",
        "print(language_score(extract_text(path)))\n"
      ],
      "metadata": {
        "id": "UHzXeZy1w9jZ",
        "outputId": "8ba7e1da-fe55-4e21-9045-2b913331fb47",
        "colab": {
          "base_uri": "https://localhost:8080/"
        }
      },
      "execution_count": 71,
      "outputs": [
        {
          "metadata": {
            "tags": null
          },
          "name": "stdout",
          "output_type": "stream",
          "text": [
            "20\n"
          ]
        }
      ]
    },
    {
      "cell_type": "code",
      "source": [
        "def ai_cv_score():\n",
        "    score = 0\n",
        "    score1 = assess_langauge_quality(extract_text(path))\n",
        "    score2 = assess_structure(extract_text(path))\n",
        "    score3 = experience_score(extract_text(path))\n",
        "    score4 = language_score(extract_text(path))\n",
        "    score5 = word_count(extract_text(path))\n",
        "    score = score1 + score2 + score3 + score4 + score5\n",
        "    if score >= 100:\n",
        "        return 99\n",
        "    return score\n",
        "\n",
        "print(ai_cv_score())"
      ],
      "metadata": {
        "id": "5oWVhXbHw9tA",
        "outputId": "d5653412-7b1b-41e6-e611-81b5b2fbc689",
        "colab": {
          "base_uri": "https://localhost:8080/"
        }
      },
      "execution_count": 77,
      "outputs": [
        {
          "output_type": "stream",
          "name": "stdout",
          "text": [
            "develop\n",
            "75.5\n"
          ]
        }
      ]
    },
    {
      "cell_type": "code",
      "source": [],
      "metadata": {
        "id": "uVG3rP3Rw91H"
      },
      "execution_count": null,
      "outputs": []
    }
  ]
}